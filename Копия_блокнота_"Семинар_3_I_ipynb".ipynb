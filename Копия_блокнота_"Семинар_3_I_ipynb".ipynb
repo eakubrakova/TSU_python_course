{
  "nbformat": 4,
  "nbformat_minor": 0,
  "metadata": {
    "colab": {
      "provenance": [],
      "include_colab_link": true
    },
    "kernelspec": {
      "name": "python3",
      "display_name": "Python 3"
    },
    "language_info": {
      "name": "python"
    }
  },
  "cells": [
    {
      "cell_type": "markdown",
      "metadata": {
        "id": "view-in-github",
        "colab_type": "text"
      },
      "source": [
        "<a href=\"https://colab.research.google.com/github/eakubrakova/TSU_python_course/blob/main/%D0%9A%D0%BE%D0%BF%D0%B8%D1%8F_%D0%B1%D0%BB%D0%BE%D0%BA%D0%BD%D0%BE%D1%82%D0%B0_%22%D0%A1%D0%B5%D0%BC%D0%B8%D0%BD%D0%B0%D1%80_3_I_ipynb%22.ipynb\" target=\"_parent\"><img src=\"https://colab.research.google.com/assets/colab-badge.svg\" alt=\"Open In Colab\"/></a>"
      ]
    },
    {
      "cell_type": "markdown",
      "source": [
        "# Задачи базовый уровень"
      ],
      "metadata": {
        "id": "4pN7tqeTNq94"
      }
    },
    {
      "cell_type": "markdown",
      "source": [
        "## Задача 1  \n",
        "Напишите функцию, которая принимает на текст и возвращает список предложений, содержащих указанное слово.  \n",
        "text = \"Это пример текста. Содержащего несколько предложений. Каждое предложение отделено точкой, которое мы добавляем в этот пример\"  \n",
        "target = \"пример\"  \n",
        "Вывод: ['Это пример текста',\n",
        "'Каждое предложение отделено точкой, которое мы используем для этого примера']  \n"
      ],
      "metadata": {
        "id": "N7T4sD_FQeYM"
      }
    },
    {
      "cell_type": "code",
      "source": [
        "def get_sentences(text, target):\n",
        "    sentences = text.split(\". \")\n",
        "    result = []\n",
        "    for sentence in sentences:\n",
        "        if target in sentence:\n",
        "            result.append(sentence)\n",
        "    return result\n"
      ],
      "metadata": {
        "id": "_7To0zs_GBUb"
      },
      "execution_count": 1,
      "outputs": []
    },
    {
      "cell_type": "markdown",
      "source": [
        "## Задача 2  \n",
        "Напишите лямбда-функцию для подсчета количества уникальных биграмм в тексте (пар соседних слов):  \n",
        "text = \"The quick brown fox jumps over the lazy dog\"  \n",
        "Вывод: 8"
      ],
      "metadata": {
        "id": "gi8LZqUnRTXk"
      }
    },
    {
      "cell_type": "code",
      "source": [
        "text = \"The quick brown fox jumps over the lazy dog\"\n",
        "text.split()\n",
        "bigrams = lambda text: [text[i] + \" \" + text[i+1] for i in range(len(text)-1)]\n",
        "print(bigrams(text))"
      ],
      "metadata": {
        "colab": {
          "base_uri": "https://localhost:8080/"
        },
        "id": "pakC4yNpGG8T",
        "outputId": "82f1b94c-13e8-4767-e33b-ce2977bcbb96"
      },
      "execution_count": 2,
      "outputs": [
        {
          "output_type": "stream",
          "name": "stdout",
          "text": [
            "['T h', 'h e', 'e  ', '  q', 'q u', 'u i', 'i c', 'c k', 'k  ', '  b', 'b r', 'r o', 'o w', 'w n', 'n  ', '  f', 'f o', 'o x', 'x  ', '  j', 'j u', 'u m', 'm p', 'p s', 's  ', '  o', 'o v', 'v e', 'e r', 'r  ', '  t', 't h', 'h e', 'e  ', '  l', 'l a', 'a z', 'z y', 'y  ', '  d', 'd o', 'o g']\n"
          ]
        }
      ]
    },
    {
      "cell_type": "markdown",
      "source": [
        "## Задача 3  \n",
        "Напишите функцию, которая принимает на вход текст и возвращает список всех слов, начинающихся с заглавной буквы.  \n",
        "text = 'А в субботу папа выздоровел, и к нам пришли гости. Пришел дядя Юра с тетей Катей, Борис Михайлович и тетя Тамара.'  \n",
        "Вывод: ['А', 'Пришел', 'Юра', 'Катей,', 'Борис', 'Михайлович', 'Тамара.']"
      ],
      "metadata": {
        "id": "qigY5s_uN45n"
      }
    },
    {
      "cell_type": "code",
      "source": [
        "def cap_words(text):\n",
        "    words = text.split()\n",
        "    return [word for word in words if word[0].isupper()]\n",
        "\n",
        "print(cap_words(text))"
      ],
      "metadata": {
        "id": "CAEZXH_sGXHk"
      },
      "execution_count": null,
      "outputs": []
    },
    {
      "cell_type": "markdown",
      "source": [
        "## Задача 4  \n",
        "Напишите функцию, которая принимает на вход два текста и возвращает список общих слов в этих текстах.  \n",
        "text1 = \"The quick brown fox jumps over the lazy dog\"  \n",
        "text2 = \"The lazy dog sleeps all day\"  \n",
        "Вывод: ['dog', 'The', 'lazy']"
      ],
      "metadata": {
        "id": "UELB_8MkQ1ZV"
      }
    },
    {
      "cell_type": "code",
      "source": [
        "def common_words(text1, text2):\n",
        "    words1 = text1.split()\n",
        "    words2 = text2.split()\n",
        "    common = []\n",
        "    for word in words1:\n",
        "        if word in words2:\n",
        "            common.append(word)\n",
        "    return common\n",
        "\n",
        "print(common_words(text1, text2))"
      ],
      "metadata": {
        "id": "zGQGRXmPGn5E"
      },
      "execution_count": null,
      "outputs": []
    },
    {
      "cell_type": "markdown",
      "source": [
        "## Задача 5  \n",
        "Получение всех комбинаций из двух списков Напишите программу, которая генерирует все возможные комбинации элементов из двух списков, используя итератор.  \n",
        "list1 = [1, 2, 3]  \n",
        "list2 = ['a', 'b', 'c']  \n",
        "(1, 'a')\n",
        "(1, 'b')\n",
        "(1, 'c')\n",
        "(2, 'a')\n",
        "(2, 'b')\n",
        "(2, 'c')\n",
        "(3, 'a')\n",
        "(3, 'b')\n",
        "(3, 'c')"
      ],
      "metadata": {
        "id": "UV8t0nt7Uylo"
      }
    },
    {
      "cell_type": "code",
      "source": [
        "from itertools import product\n",
        "\n",
        "list1 = [1, 2, 3]\n",
        "list2 = ['a', 'b', 'c']\n",
        "\n",
        "combos = list(product(list1, list2))\n",
        "print(combos)"
      ],
      "metadata": {
        "id": "OKJAzC2mG0yq"
      },
      "execution_count": null,
      "outputs": []
    },
    {
      "cell_type": "markdown",
      "source": [
        "## Задача 6  \n",
        "У вас есть два списка слов, adjectives с прилагательными и nouns с существительными. Вам необходимо создать все возможные фразы, состоящие из одного прилагательного и одного существительного, где прилагательное идет перед существительным.  \n",
        "adjectives = ['маленький', 'красивый', 'умный']  \n",
        "nouns = ['кот', 'дом', 'стол']  \n",
        "маленький кот\n",
        "маленький дом\n",
        "маленький стол\n",
        "красивый кот\n",
        "красивый дом\n",
        "красивый стол\n",
        "умный кот\n",
        "умный дом\n",
        "умный стол"
      ],
      "metadata": {
        "id": "J-uAJYWMRwoH"
      }
    },
    {
      "cell_type": "code",
      "source": [
        "from itertools import product\n",
        "\n",
        "adjectives = ['маленький', 'красивый', 'умный']\n",
        "nouns = ['кот', 'дом', 'стол']\n",
        "\n",
        "phrases = list(product(adjectives, nouns))\n",
        "for phrase in phrases:\n",
        "    print(' '.join(phrase))"
      ],
      "metadata": {
        "id": "XsG2xCF2GzyC"
      },
      "execution_count": null,
      "outputs": []
    },
    {
      "cell_type": "markdown",
      "source": [
        "# Задачи самостоятельное решение"
      ],
      "metadata": {
        "id": "BwrfVZVgOyuP"
      }
    },
    {
      "cell_type": "markdown",
      "source": [
        "## Задача 1  \n",
        "Токенизация текста: Напишите лямбда-функцию, которая будет использоваться для токенизации текста, разбивая его на отдельные слова или токены с удалением знаков пунктуации. Решить без доп библиотек  \n",
        "text = \"Привет! Как дела?\"  \n",
        "['привет', 'как', 'дела']"
      ],
      "metadata": {
        "id": "BHyhGJ9oO5BK"
      }
    },
    {
      "cell_type": "code",
      "source": [
        "def tokenize(text):\n",
        "    tokens = []\n",
        "    current_token = ''\n",
        "    for char in text:\n",
        "        if char.isalpha():\n",
        "            current_token += char\n",
        "        elif current_token:\n",
        "            tokens.append(current_token)\n",
        "            current_token = ''\n",
        "    if current_token:\n",
        "        tokens.append(current_token)\n",
        "    return tokens\n",
        "\n",
        "print(tokenize(text))"
      ],
      "metadata": {
        "id": "5IpaMArIHAen"
      },
      "execution_count": null,
      "outputs": []
    },
    {
      "cell_type": "markdown",
      "source": [
        "## Задача 2  \n",
        "Напишите функцию, которая принимает на вход текст и возвращает список предложений, в которых есть запятые и двоеточия.  \n",
        "text = \"Это пример текста. Содержащего предложения с запятыми и двоеточиями:. Это первое предложение, и это второе предложение. \"  \n",
        "Вывод: ['Содержащего предложения с запятыми и двоеточиями:', 'Это первое предложение, и это второе предложение']\n"
      ],
      "metadata": {
        "id": "qZmHhHCSOfsC"
      }
    },
    {
      "cell_type": "code",
      "source": [
        "def split_sentences(text):\n",
        "    sentences = []\n",
        "    current_sentence = ''\n",
        "    for char in text:\n",
        "        if char == '.' or char == ',' or char == ':':\n",
        "            if current_sentence:\n",
        "                sentences.append(current_sentence)\n",
        "                current_sentence = ''\n",
        "        else:\n",
        "            current_sentence += char\n",
        "    if current_sentence:\n",
        "        sentences.append(current_sentence)\n",
        "    return sentences\n",
        "\n",
        "print(split_sentences(text))"
      ],
      "metadata": {
        "id": "kft6o7ytHIqH"
      },
      "execution_count": null,
      "outputs": []
    },
    {
      "cell_type": "markdown",
      "source": [
        "## Задача 3  \n",
        "Напишите лямбда-функцию для подсчета количества предложений в тексте:  \n",
        "text = \"Привет! Как дела? Я надеюсь, все хорошо. Увидимся позже!\"  \n",
        "Вывод: 4"
      ],
      "metadata": {
        "id": "niGAyew1Uqtr"
      }
    },
    {
      "cell_type": "code",
      "source": [
        "count_sentences = lambda text: len(split_sentences(text))\n",
        "\n",
        "print(count_sentences(text))"
      ],
      "metadata": {
        "id": "5ltyO-AUHP5P"
      },
      "execution_count": null,
      "outputs": []
    },
    {
      "cell_type": "markdown",
      "source": [
        "# Задачи продвинутого уровня"
      ],
      "metadata": {
        "id": "gRh-ewi0RrQM"
      }
    },
    {
      "cell_type": "markdown",
      "source": [
        "### Теория"
      ],
      "metadata": {
        "id": "ehoOOdDsmDw2"
      }
    },
    {
      "cell_type": "markdown",
      "source": [
        "Генератор yield в Python позволяет создавать итерируемые объекты, которые могут генерировать значения по требованию, вместо того чтобы их сразу генерировать все. Вот несколько примеров использования генератора yield на текстах:\n",
        "\n",
        "Генератор предложений:"
      ],
      "metadata": {
        "id": "lSB98P6xWXrH"
      }
    },
    {
      "cell_type": "code",
      "source": [
        "def sentence_generator(text):\n",
        "    sentences = text.split('.')  # Предполагаем, что предложения разделены точкой.\n",
        "    for sentence in sentences:\n",
        "        yield sentence.strip()\n",
        "\n",
        "# Использование генератора\n",
        "text = \"Пример текста. Состоящего из нескольких предложений. Каждое предложение отделено точкой.\"\n",
        "sentences = sentence_generator(text)\n",
        "\n",
        "for sentence in sentences:\n",
        "    print(sentence)"
      ],
      "metadata": {
        "colab": {
          "base_uri": "https://localhost:8080/"
        },
        "id": "-7M4YJ7TWbYq",
        "outputId": "75a41ba8-2593-4a90-acd2-c168815ec31d"
      },
      "execution_count": null,
      "outputs": [
        {
          "output_type": "stream",
          "name": "stdout",
          "text": [
            "Пример текста\n",
            "Состоящего из нескольких предложений\n",
            "Каждое предложение отделено точкой\n",
            "\n"
          ]
        }
      ]
    },
    {
      "cell_type": "markdown",
      "source": [
        "В этом примере мы создаем генератор sentence_generator, который разделяет текст на предложения, разделенные точкой. Затем каждое предложение возвращается по требованию с помощью yield. Мы используем цикл for для итерации по предложениям и выводим их на экран."
      ],
      "metadata": {
        "id": "aarnipH8WoKr"
      }
    },
    {
      "cell_type": "markdown",
      "source": [
        "Генератор слов:"
      ],
      "metadata": {
        "id": "P3_scVx4WwYK"
      }
    },
    {
      "cell_type": "code",
      "source": [
        "\n",
        "def word_generator(text):\n",
        "    words = text.split()\n",
        "    for word in words:\n",
        "        yield word\n",
        "\n",
        "# Использование генератора\n",
        "text = \"Это пример текста, состоящего из нескольких слов.\"\n",
        "words = word_generator(text)\n",
        "\n",
        "for word in words:\n",
        "    print(word)\n"
      ],
      "metadata": {
        "colab": {
          "base_uri": "https://localhost:8080/"
        },
        "id": "AqW7eotHWtw6",
        "outputId": "2d4ebd4f-ceb8-4908-f30b-6a6d69f0fe64"
      },
      "execution_count": null,
      "outputs": [
        {
          "output_type": "stream",
          "name": "stdout",
          "text": [
            "Это\n",
            "пример\n",
            "текста,\n",
            "состоящего\n",
            "из\n",
            "нескольких\n",
            "слов.\n"
          ]
        }
      ]
    },
    {
      "cell_type": "markdown",
      "source": [
        "В этом примере мы создаем генератор word_generator, который разделяет текст на отдельные слова. Затем каждое слово возвращается по требованию с помощью yield. Мы используем цикл for для итерации по словам и выводим их.\n",
        "\n",
        "Такие генераторы могут быть полезными при работе с большими текстами или потоками данных, когда необходимо генерировать результаты по мере необходимости, а не все сразу."
      ],
      "metadata": {
        "id": "WP9tTXUjW0dm"
      }
    },
    {
      "cell_type": "markdown",
      "source": [
        "## Задача 1\n",
        "Напишите генератор предложений с определенным количеством слов:  \n",
        "text = \"Пример текста. Состоящего из нескольких предложений. Каждое предложение отделено точкой.\"  \n",
        "Вывод: Состоящего из нескольких предложений  \n",
        "Каждое предложение отделено точкой"
      ],
      "metadata": {
        "id": "bj1dZJ2RR-zQ"
      }
    },
    {
      "cell_type": "code",
      "source": [
        "def generate_sentences(text, num_words):\n",
        "    sentences = split_sentences(text)\n",
        "    for sentence in sentences:\n",
        "        if len(sentence.split()) == num_words:\n",
        "            yield sentence\n",
        "\n",
        "for sentence in generate_sentences(text, 5):\n",
        "    print(sentence)"
      ],
      "metadata": {
        "id": "aV_HuN1QHkSR"
      },
      "execution_count": null,
      "outputs": []
    },
    {
      "cell_type": "markdown",
      "source": [
        "## Задача 2\n",
        "Подсчет средней длины предложений в тексте.  \n",
        "text = \"Привет! Как дела? Я надеюсь все хорошо. Увидимся позже!\"  \n",
        "Вывод: 12.25"
      ],
      "metadata": {
        "id": "cDspqkwBSPmw"
      }
    },
    {
      "cell_type": "code",
      "source": [
        "def average_sentence_length(text):\n",
        "    sentences = split_sentences(text)\n",
        "    total_words = 0\n",
        "    for sentence in sentences:\n",
        "        total_words += len(sentence.split())\n",
        "    return total_words / len(sentences)\n",
        "\n",
        "print(average_sentence_length(text))"
      ],
      "metadata": {
        "id": "amnyBYCZHdbN"
      },
      "execution_count": null,
      "outputs": []
    },
    {
      "cell_type": "markdown",
      "source": [
        "## Задача 3  \n",
        "Напишите генератор уникальных слов:  \n",
        "text = \"Это пример текста, состоящего из нескольких слов. Пример - это слово.\"  \n",
        "Вывод:  \n",
        "состоящего  \n",
        "нескольких  \n",
        "слов.  \n",
        "-  \n",
        "пример  \n",
        "текста,  \n",
        "слово.  \n",
        "из  \n",
        "это  "
      ],
      "metadata": {
        "id": "mWgn1MNBS23G"
      }
    },
    {
      "cell_type": "code",
      "source": [
        "def unique_words_generator(text):\n",
        "    words = text.split()\n",
        "    unique_words = set(words)\n",
        "    for word in unique_words:\n",
        "        yield word\n",
        "\n",
        "text = \"Это пример текста, состоящего из нескольких слов. Пример - это слово.\"\n",
        "unique_words = unique_words_generator(text)\n",
        "for word in unique_words:\n",
        "    print(word)"
      ],
      "metadata": {
        "id": "RbsuDR8NHumo"
      },
      "execution_count": null,
      "outputs": []
    },
    {
      "cell_type": "markdown",
      "source": [
        "## Задача 4\n",
        "Извлечение наиболее релевантных слов из текста.\n",
        "\n",
        "Вход: Текстовая строка и список ключевых слов.  \n",
        "Вывод: Список наиболее релевантных слов, присутствующих в тексте."
      ],
      "metadata": {
        "id": "OvXO1LXAqQvH"
      }
    },
    {
      "cell_type": "code",
      "source": [
        "def relevant_words(text, keywords):\n",
        "    words = text.split()\n",
        "    relevant_words = []\n",
        "    for word in words:\n",
        "        if word in keywords:\n",
        "            relevant_words.append(word)\n",
        "    return relevant_words\n",
        "\n",
        "text = \"Это пример текста, состоящего из нескольких слов. Пример - это слово.\"\n",
        "keywords = [\"пример\", \"слово\"]\n",
        "relevant_words = relevant_words(text, keywords)\n",
        "print(relevant_words)"
      ],
      "metadata": {
        "id": "ZDv_lTcAH2p7"
      },
      "execution_count": null,
      "outputs": []
    }
  ]
}