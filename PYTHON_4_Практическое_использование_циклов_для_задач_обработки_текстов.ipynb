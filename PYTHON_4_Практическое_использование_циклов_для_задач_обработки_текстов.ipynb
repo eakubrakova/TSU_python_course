{
  "nbformat": 4,
  "nbformat_minor": 0,
  "metadata": {
    "colab": {
      "provenance": []
    },
    "kernelspec": {
      "name": "python3",
      "display_name": "Python 3"
    },
    "language_info": {
      "name": "python"
    }
  },
  "cells": [
    {
      "cell_type": "markdown",
      "source": [
        "# <center> Практическое использование циклов для задач обработки текстов"
      ],
      "metadata": {
        "id": "LFY9dip7uCFR"
      }
    },
    {
      "cell_type": "markdown",
      "source": [
        "## Задача №1.\n",
        "\n",
        "**Условие задачи.** Подсчитать количество вхождений каждого символа в заданном тексте. В результате работы программы должен быть сформирован словарь, ключи которого — символы текста, а значения — количество вхождений символа в тексте."
      ],
      "metadata": {
        "id": "xtIuRI6yuUyj"
      }
    },
    {
      "cell_type": "code",
      "execution_count": null,
      "metadata": {
        "id": "tbjNfjRFt8z5"
      },
      "outputs": [],
      "source": [
        "text = \"\"\"\n",
        "The rabbit-hole went straight on like a tunnel for some way, and then dipped suddenly down, so suddenly that Alice had not a moment to think about stopping herself before she found herself falling down a very deep well.\n",
        "\n",
        "Either the well was very deep, or she fell very slowly, for she had plenty of time as she went down to look about her and to wonder what was going to happen next. First, she tried to look down and make out what she was coming to, but it was too dark to see anything; then she looked at the sides of the well, and noticed that they were filled with cupboards and book-shelves; here and there she saw maps and pictures hung upon pegs. She took down a jar from one of the shelves as she passed; it was labelled `ORANGE MARMALADE', but to her great disappointment it was empty: she did not like to drop the jar for fear of killing somebody, so managed to put it into one of the cupboards as she fell past it.\n",
        "\n",
        "`Well!' thought Alice to herself, `after such a fall as this, I shall think nothing of tumbling down stairs! How brave they'll all think me at home! Why, I wouldn't say anything about it, even if I fell off the top of the house!' (Which was very likely true.)\n",
        "\"\"\"\n"
      ]
    },
    {
      "cell_type": "markdown",
      "source": [
        "**Решение:**"
      ],
      "metadata": {
        "id": "qWqJ1ZJJvKWO"
      }
    },
    {
      "cell_type": "code",
      "source": [
        "# Приводим текст к нижнему регистру\n",
        "text = text.lower()\n",
        "# Заменяем пробелы на пустые строки\n",
        "text = text.replace(\" \", \"\")\n",
        "# Заменяем символы переноса строки на пустые строки\n",
        "text = text.replace(\"\\n\", \"\")\n",
        "# Создаём пустой словарь для подсчёта количества символов\n",
        "count_dict = {}\n",
        "# Создаём цикл по символам в строке text\n",
        "for symbol in text: # symbol — текущий символ в тексте\n",
        "    # Проверяем условие, что символа ещё нет среди ключей словаря\n",
        "    if symbol not in count_dict:\n",
        "        # Если условие выполняется, заносим символ в словарь со значением 1\n",
        "        count_dict[symbol] = 1 #\n",
        "    else:\n",
        "        # В противном случае, увеличиваем частоту символа\n",
        "        count_dict[symbol] += 1\n",
        "# Выводим результирующий словарь\n",
        "print(count_dict)\n"
      ],
      "metadata": {
        "colab": {
          "base_uri": "https://localhost:8080/"
        },
        "id": "o_n9kKQsYhYO",
        "outputId": "0ea7c744-d080-42e8-a820-365571d46d5b"
      },
      "execution_count": null,
      "outputs": [
        {
          "output_type": "stream",
          "name": "stdout",
          "text": [
            "therabbit-holewentstraightonlikeatunnelforsomeway,andthendippedsuddenlydown,sosuddenlythatalicehadnotamomenttothinkaboutstoppingherselfbeforeshefoundherselffallingdownaverydeepwell.eitherthewellwasverydeep,orshefellveryslowly,forshehadplentyoftimeasshewentdowntolookaboutherandtowonderwhatwasgoingtohappennext.first,shetriedtolookdownandmakeoutwhatshewascomingto,butitwastoodarktoseeanything;thenshelookedatthesidesofthewell,andnoticedthattheywerefilledwithcupboardsandbook-shelves;hereandthereshesawmapsandpictureshunguponpegs.shetookdownajarfromoneoftheshelvesasshepassed;itwaslabelled`orangemarmalade',buttohergreatdisappointmentitwasempty:shedidnotliketodropthejarforfearofkillingsomebody,somanagedtoputitintooneofthecupboardsasshefellpastit.`well!'thoughtalicetoherself,`aftersuchafallasthis,ishallthinknothingoftumblingdownstairs!howbravethey'llallthinkmeathome!why,iwouldn'tsayanythingaboutit,evenififelloffthetopofthehouse!'(whichwasverylikelytrue.)\n"
          ]
        }
      ]
    },
    {
      "cell_type": "markdown",
      "source": [
        "## Задача №2\n",
        "\n",
        "**Условие задачи.** Подсчитать количество вхождений каждого слова в заданном тексте. В результате работы программы должен быть сформирован словарь, ключи которого — слова текста, а значения — количество вхождений слов в тексте.\n",
        "\n"
      ],
      "metadata": {
        "id": "Sam58T4CvMT6"
      }
    },
    {
      "cell_type": "code",
      "source": [
        "text = \"\"\"\n",
        "She sells sea shells on the sea shore;\n",
        "The shells that she sells are sea shells I am sure.\n",
        "So if she sells sea shells on the sea shore,\n",
        "I am sure that the shells are sea shore shells.\n",
        "\"\"\""
      ],
      "metadata": {
        "id": "NIWks3eOvVuC"
      },
      "execution_count": null,
      "outputs": []
    },
    {
      "cell_type": "markdown",
      "source": [
        "**Решение:**"
      ],
      "metadata": {
        "id": "BKK47j9ivXoh"
      }
    },
    {
      "cell_type": "code",
      "source": [
        "# Приводим текст к нижнему регистру\n",
        "text = text.lower()\n",
        "# Заменяем символы переноса строки на пробелы\n",
        "text = text.replace(\"\\n\", \" \")\n",
        "# Заменяем запятые на пустые строки\n",
        "text = text.replace(\",\", \"\")\n",
        "# Заменяем точки на пустые строки\n",
        "text = text.replace(\".\", \"\")\n",
        "# Заменяем точки с запятыми на пустые строки\n",
        "text = text.replace(\";\", \"\")\n",
        "# Разделяем текст на слова\n",
        "word_list = text.split()\n",
        "# Создаём пустой словарь для подсчёта количества слов\n",
        "count_dict = {}\n",
        "# Создаём цикл по словам в списке word_list\n",
        "# word — текущее слово из списка word_list\n",
        "for word in word_list:\n",
        "    # Проверяем условие, что слова ещё нет среди ключей словаря\n",
        "    if word not in count_dict:\n",
        "        # Если условие выполняется, заносим слово в словарь со значением 1\n",
        "        count_dict[word] = 1\n",
        "    else:\n",
        "        # В противном случае, увеличиваем частоту слова\n",
        "        count_dict[word] += 1\n",
        "# Выводим результирующий словарь\n",
        "print(count_dict)"
      ],
      "metadata": {
        "colab": {
          "base_uri": "https://localhost:8080/"
        },
        "id": "bpF2S6U6vZEp",
        "outputId": "90e1600c-bc1a-4d6b-c3ca-57094c500390"
      },
      "execution_count": null,
      "outputs": [
        {
          "output_type": "stream",
          "name": "stdout",
          "text": [
            "she sells sea shells on the sea shorethe shells that she sells are sea shells i am sureso if she sells sea shells on the sea shorei am sure that the shells are sea shore shells\n"
          ]
        }
      ]
    }
  ]
}